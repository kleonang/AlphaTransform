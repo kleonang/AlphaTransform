{
 "cells": [
  {
   "cell_type": "code",
   "execution_count": 20,
   "metadata": {},
   "outputs": [
    {
     "name": "stdout",
     "output_type": "stream",
     "text": [
      "The autoreload extension is already loaded. To reload it, use:\n",
      "  %reload_ext autoreload\n"
     ]
    }
   ],
   "source": [
    "%load_ext autoreload\n",
    "%autoreload 2"
   ]
  },
  {
   "cell_type": "code",
   "execution_count": 22,
   "metadata": {},
   "outputs": [
    {
     "name": "stdout",
     "output_type": "stream",
     "text": [
      "res: Add(TsDelta(Abs($low),10),Divide($high,$close))\n",
      "ref: Add(TsDelta(Abs($low),10),Divide($high,$close))\n"
     ]
    }
   ],
   "source": [
    "from alphagen.data.tree import ExpressionBuilder\n",
    "from alphagen.data.tokens import FeatureToken, OperatorToken, DeltaTimeToken\n",
    "from backtester.StrategyOperator import Abs, TsDelta, Divide, Add\n",
    "from backtester.SimulationData import Low, High, Close\n",
    "from backtester.Operator import UnaryOperator, BinaryOperator\n",
    "\n",
    "# Set simulation start and end dates\n",
    "sim_start = '2011-01-01'\n",
    "sim_end = '2017-12-07'\n",
    "# Set in-sample and out-of-sample start dates\n",
    "is_start = '2013-04-10'\n",
    "os_start = '2017-01-03'\n",
    "\n",
    "tokens = [\n",
    "    FeatureToken(Low(sim_start, sim_end)),\n",
    "    OperatorToken(Abs),\n",
    "    DeltaTimeToken(10),\n",
    "    OperatorToken(TsDelta),\n",
    "    FeatureToken(High(sim_start, sim_end)),\n",
    "    FeatureToken(Close(sim_start, sim_end)),\n",
    "    OperatorToken(Divide),\n",
    "    OperatorToken(Add),\n",
    "]\n",
    "\n",
    "builder = ExpressionBuilder()\n",
    "for token in tokens:\n",
    "    builder.add_token(token)\n",
    "\n",
    "print(f'res: {str(builder.get_tree())}')\n",
    "print(f'ref: Add(TsDelta(Abs($low),10),Divide($high,$close))')"
   ]
  },
  {
   "cell_type": "code",
   "execution_count": 6,
   "metadata": {},
   "outputs": [
    {
     "data": {
      "text/plain": [
       "[Add(TsDelta(Abs($low),-10),Divide($high,$close))]"
      ]
     },
     "execution_count": 6,
     "metadata": {},
     "output_type": "execute_result"
    }
   ],
   "source": [
    "builder.stack"
   ]
  },
  {
   "cell_type": "code",
   "execution_count": 18,
   "metadata": {},
   "outputs": [
    {
     "data": {
      "text/plain": [
       "[$low, Abs, -10, TsDelta, $high, $close, Divide, Add]"
      ]
     },
     "execution_count": 18,
     "metadata": {},
     "output_type": "execute_result"
    }
   ],
   "source": [
    "builder.rpn"
   ]
  },
  {
   "cell_type": "code",
   "execution_count": 15,
   "metadata": {},
   "outputs": [
    {
     "data": {
      "text/plain": [
       "['Abs',\n",
       " 'Add',\n",
       " 'Constant',\n",
       " 'DeltaTime',\n",
       " 'Divide',\n",
       " 'Exp',\n",
       " 'Flip',\n",
       " 'Invert',\n",
       " 'Log',\n",
       " 'Multiply',\n",
       " 'Neutralize',\n",
       " 'Normalize',\n",
       " 'Power',\n",
       " 'Rank',\n",
       " 'Sigmoid',\n",
       " 'Softmax',\n",
       " 'Subtract',\n",
       " 'Truncate',\n",
       " 'TsChange',\n",
       " 'TsDelta',\n",
       " 'TsKurtosis',\n",
       " 'TsMean',\n",
       " 'TsRank',\n",
       " 'TsSkewness',\n",
       " 'TsStd',\n",
       " 'TsZscore',\n",
       " 'TsZscoreRank']"
      ]
     },
     "execution_count": 15,
     "metadata": {},
     "output_type": "execute_result"
    }
   ],
   "source": [
    "from backtester import StrategyOperator\n",
    "[op for op in dir(StrategyOperator) if 'Operator' not in op and op[0].isupper()]"
   ]
  },
  {
   "cell_type": "code",
   "execution_count": 16,
   "metadata": {},
   "outputs": [
    {
     "data": {
      "text/plain": [
       "6"
      ]
     },
     "execution_count": 16,
     "metadata": {},
     "output_type": "execute_result"
    }
   ],
   "source": [
    "from backtester.SimulationData import FeatureType\n",
    "len(FeatureType)"
   ]
  }
 ],
 "metadata": {
  "kernelspec": {
   "display_name": "base",
   "language": "python",
   "name": "python3"
  },
  "language_info": {
   "codemirror_mode": {
    "name": "ipython",
    "version": 3
   },
   "file_extension": ".py",
   "mimetype": "text/x-python",
   "name": "python",
   "nbconvert_exporter": "python",
   "pygments_lexer": "ipython3",
   "version": "3.8.5"
  },
  "orig_nbformat": 4
 },
 "nbformat": 4,
 "nbformat_minor": 2
}
